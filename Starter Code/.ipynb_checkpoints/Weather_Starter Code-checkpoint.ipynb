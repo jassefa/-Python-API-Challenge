{
 "cells": [
  {
   "cell_type": "markdown",
   "metadata": {},
   "source": [
    "# WeatherPy\n",
    "----\n",
    "\n",
    "#### Note\n",
    "* Instructions have been included for each segment. You do not have to follow them exactly, but they are included to help you think through the steps."
   ]
  },
  {
   "cell_type": "code",
   "execution_count": 1,
   "metadata": {
    "scrolled": false
   },
   "outputs": [
    {
     "data": {
      "text/html": [
       "<div>\n",
       "<style scoped>\n",
       "    .dataframe tbody tr th:only-of-type {\n",
       "        vertical-align: middle;\n",
       "    }\n",
       "\n",
       "    .dataframe tbody tr th {\n",
       "        vertical-align: top;\n",
       "    }\n",
       "\n",
       "    .dataframe thead th {\n",
       "        text-align: right;\n",
       "    }\n",
       "</style>\n",
       "<table border=\"1\" class=\"dataframe\">\n",
       "  <thead>\n",
       "    <tr style=\"text-align: right;\">\n",
       "      <th></th>\n",
       "      <th>City_ID</th>\n",
       "      <th>City</th>\n",
       "      <th>Cloudiness</th>\n",
       "      <th>Country</th>\n",
       "      <th>Date</th>\n",
       "      <th>Humidity</th>\n",
       "      <th>Lat</th>\n",
       "      <th>Lng</th>\n",
       "      <th>Max Temp</th>\n",
       "      <th>Wind Speed</th>\n",
       "    </tr>\n",
       "  </thead>\n",
       "  <tbody>\n",
       "    <tr>\n",
       "      <th>0</th>\n",
       "      <td>0</td>\n",
       "      <td>ostrovnoy</td>\n",
       "      <td>2</td>\n",
       "      <td>RU</td>\n",
       "      <td>1558378754</td>\n",
       "      <td>72</td>\n",
       "      <td>68.05</td>\n",
       "      <td>39.51</td>\n",
       "      <td>37.5</td>\n",
       "      <td>7.16</td>\n",
       "    </tr>\n",
       "    <tr>\n",
       "      <th>1</th>\n",
       "      <td>1</td>\n",
       "      <td>mahebourg</td>\n",
       "      <td>75</td>\n",
       "      <td>MU</td>\n",
       "      <td>1558378503</td>\n",
       "      <td>74</td>\n",
       "      <td>-20.41</td>\n",
       "      <td>57.70</td>\n",
       "      <td>78.8</td>\n",
       "      <td>11.41</td>\n",
       "    </tr>\n",
       "    <tr>\n",
       "      <th>2</th>\n",
       "      <td>2</td>\n",
       "      <td>qaanaaq</td>\n",
       "      <td>25</td>\n",
       "      <td>GL</td>\n",
       "      <td>1558378755</td>\n",
       "      <td>73</td>\n",
       "      <td>77.48</td>\n",
       "      <td>-69.36</td>\n",
       "      <td>22.2</td>\n",
       "      <td>2.37</td>\n",
       "    </tr>\n",
       "  </tbody>\n",
       "</table>\n",
       "</div>"
      ],
      "text/plain": [
       "   City_ID       City  Cloudiness Country        Date  Humidity    Lat    Lng  \\\n",
       "0        0  ostrovnoy           2      RU  1558378754        72  68.05  39.51   \n",
       "1        1  mahebourg          75      MU  1558378503        74 -20.41  57.70   \n",
       "2        2    qaanaaq          25      GL  1558378755        73  77.48 -69.36   \n",
       "\n",
       "   Max Temp  Wind Speed  \n",
       "0      37.5        7.16  \n",
       "1      78.8       11.41  \n",
       "2      22.2        2.37  "
      ]
     },
     "execution_count": 1,
     "metadata": {},
     "output_type": "execute_result"
    }
   ],
   "source": [
    "# Dependencies and Setup\n",
    "import matplotlib.pyplot as plt\n",
    "import pandas as pd\n",
    "import numpy as np\n",
    "import requests\n",
    "import time\n",
    "from scipy.stats import linregress\n",
    "\n",
    "# Import API key\n",
    "from api_keys import weather_api_key\n",
    "\n",
    "# Incorporated citipy to determine city based on latitude and longitude\n",
    "from citipy import citipy\n",
    "\n",
    "# Output File (CSV)\n",
    "output_data_file = \"cities.csv\"\n",
    "\n",
    "# Range of latitudes and longitudes\n",
    "lat_range = (-90, 90)\n",
    "lng_range = (-180, 180)\n",
    "\n",
    "w_df = pd.read_csv(output_data_file)\n",
    "w_df.head(3)"
   ]
  },
  {
   "cell_type": "markdown",
   "metadata": {},
   "source": [
    "## Generate Cities List"
   ]
  },
  {
   "cell_type": "code",
   "execution_count": 2,
   "metadata": {},
   "outputs": [
    {
     "data": {
      "text/plain": [
       "628"
      ]
     },
     "execution_count": 2,
     "metadata": {},
     "output_type": "execute_result"
    }
   ],
   "source": [
    "# List for holding lat_lngs and cities\n",
    "lat_lngs = []\n",
    "cities = []\n",
    "\n",
    "# Create a set of random lat and lng combinations\n",
    "lats = np.random.uniform(low=-90.000, high=90.000, size=1500)\n",
    "lngs = np.random.uniform(low=-180.000, high=180.000, size=1500)\n",
    "lat_lngs = zip(lats, lngs)\n",
    "\n",
    "# Identify nearest city for each lat, lng combination\n",
    "for lat_lng in lat_lngs:\n",
    "    city = citipy.nearest_city(lat_lng[0], lat_lng[1]).city_name\n",
    "    \n",
    "    # If the city is unique, then add it to a our cities list\n",
    "    if city not in cities:\n",
    "        cities.append(city)\n",
    "\n",
    "# Print the city count to confirm sufficient count\n",
    "len(cities)"
   ]
  },
  {
   "cell_type": "markdown",
   "metadata": {},
   "source": [
    "### Perform API Calls\n",
    "* Perform a weather check on each city using a series of successive API calls.\n",
    "* Include a print log of each city as it'sbeing processed (with the city number and city name).\n"
   ]
  },
  {
   "cell_type": "code",
   "execution_count": 3,
   "metadata": {},
   "outputs": [
    {
     "data": {
      "text/plain": [
       "'http://api.openweathermap.org/data/2.5/weather?appid=18bf7eddca2612d698b1d860d16dbe2d&units=metric&q='"
      ]
     },
     "execution_count": 3,
     "metadata": {},
     "output_type": "execute_result"
    }
   ],
   "source": [
    "url = \"http://api.openweathermap.org/data/2.5/weather?\"\n",
    "units = \"metric\"\n",
    "\n",
    "# Build partial query URL\n",
    "base_url = f\"{url}appid={weather_api_key}&units={units}&q=\"\n",
    "\n",
    "base_url"
   ]
  },
  {
   "cell_type": "code",
   "execution_count": 4,
   "metadata": {},
   "outputs": [
    {
     "data": {
      "text/plain": [
       "{'coord': {'lon': 3.72, 'lat': 51.05},\n",
       " 'weather': [{'id': 300,\n",
       "   'main': 'Drizzle',\n",
       "   'description': 'light intensity drizzle',\n",
       "   'icon': '09n'},\n",
       "  {'id': 500, 'main': 'Rain', 'description': 'light rain', 'icon': '10n'}],\n",
       " 'base': 'stations',\n",
       " 'main': {'temp': 5.55,\n",
       "  'feels_like': 2.51,\n",
       "  'temp_min': 5,\n",
       "  'temp_max': 6.67,\n",
       "  'pressure': 1000,\n",
       "  'humidity': 93},\n",
       " 'visibility': 7000,\n",
       " 'wind': {'speed': 2.6, 'deg': 100},\n",
       " 'rain': {'1h': 0.51},\n",
       " 'clouds': {'all': 90},\n",
       " 'dt': 1583379701,\n",
       " 'sys': {'type': 1,\n",
       "  'id': 1560,\n",
       "  'country': 'BE',\n",
       "  'sunrise': 1583389236,\n",
       "  'sunset': 1583429566},\n",
       " 'timezone': 3600,\n",
       " 'id': 2797656,\n",
       " 'name': 'Ghent',\n",
       " 'cod': 200}"
      ]
     },
     "execution_count": 4,
     "metadata": {},
     "output_type": "execute_result"
    }
   ],
   "source": [
    "reponse = requests.get(base_url + \"gent\")\n",
    "results = reponse.json()\n",
    "results"
   ]
  },
  {
   "cell_type": "code",
   "execution_count": 5,
   "metadata": {},
   "outputs": [
    {
     "name": "stdout",
     "output_type": "stream",
     "text": [
      "counter 1 || ushuaia\n",
      "counter 2 || joquicingo\n",
      "counter 3 || salalah\n",
      "counter 4 || rikitea\n",
      "counter 5 || jamestown\n",
      "City not found\n",
      "counter 7 || labuhan\n",
      "counter 8 || hithadhoo\n",
      "counter 9 || kiama\n",
      "counter 10 || puerto vallarta\n",
      "counter 11 || cherdyn\n",
      "counter 12 || new norfolk\n",
      "counter 13 || ilulissat\n",
      "City not found\n",
      "counter 15 || araouane\n",
      "counter 16 || mataura\n",
      "counter 17 || elban\n",
      "counter 18 || marawi\n",
      "City not found\n",
      "counter 20 || albany\n",
      "counter 21 || port hawkesbury\n",
      "counter 22 || dikson\n",
      "counter 23 || nanortalik\n",
      "counter 24 || anloga\n",
      "counter 25 || busselton\n",
      "counter 26 || west bay\n",
      "counter 27 || kahului\n",
      "counter 28 || dingle\n",
      "counter 29 || esperance\n",
      "counter 30 || atuona\n",
      "counter 31 || borba\n",
      "City not found\n",
      "counter 33 || baghdad\n",
      "counter 34 || mahajanga\n",
      "counter 35 || deputatskiy\n",
      "counter 36 || saskylakh\n",
      "counter 37 || castro\n",
      "counter 38 || chokurdakh\n",
      "City not found\n",
      "counter 40 || cidreira\n",
      "City not found\n",
      "counter 42 || nkhotakota\n",
      "counter 43 || mahebourg\n",
      "counter 44 || verkhnevilyuysk\n",
      "counter 45 || svetlogorsk\n",
      "counter 46 || gamba\n",
      "City not found\n",
      "counter 48 || merauke\n",
      "counter 49 || ratnagiri\n",
      "counter 50 || mount isa\n",
      "counter 51 || kortkeros\n",
      "counter 52 || thompson\n",
      "counter 53 || butaritari\n",
      "counter 54 || tucuman\n",
      "City not found\n",
      "counter 56 || ribeira grande\n",
      "City not found\n",
      "counter 58 || bluff\n",
      "counter 59 || qaqortoq\n",
      "counter 60 || codrington\n",
      "counter 61 || altamira\n",
      "counter 62 || aguilas\n",
      "counter 63 || namatanai\n",
      "counter 64 || teya\n",
      "counter 65 || cuamba\n",
      "counter 66 || payo\n",
      "counter 67 || blagoyevo\n",
      "counter 68 || amapa\n",
      "counter 69 || pathein\n",
      "counter 70 || kruisfontein\n",
      "counter 71 || acarau\n",
      "counter 72 || andover\n",
      "counter 73 || torbay\n",
      "counter 74 || guerrero negro\n",
      "counter 75 || santa cruz\n",
      "counter 76 || port alfred\n",
      "City not found\n",
      "City not found\n",
      "counter 79 || cayenne\n",
      "counter 80 || selfoss\n",
      "counter 81 || paragould\n",
      "counter 82 || namibe\n",
      "counter 83 || hermanus\n",
      "counter 84 || odienne\n",
      "counter 85 || punta arenas\n",
      "counter 86 || faanui\n",
      "counter 87 || georgetown\n",
      "counter 88 || lompoc\n",
      "counter 89 || oussouye\n",
      "counter 90 || bambous virieux\n",
      "counter 91 || calawag\n",
      "counter 92 || zambezi\n",
      "counter 93 || hambantota\n",
      "counter 94 || olafsvik\n",
      "counter 95 || fort nelson\n",
      "counter 96 || koslan\n",
      "counter 97 || owando\n",
      "counter 98 || margate\n",
      "counter 99 || aswan\n",
      "counter 100 || kodiak\n",
      "counter 101 || hilo\n",
      "counter 102 || kapaa\n",
      "counter 103 || poum\n",
      "counter 104 || tiksi\n",
      "counter 105 || hobart\n",
      "counter 106 || usak\n",
      "counter 107 || dhidhdhoo\n",
      "counter 108 || bredasdorp\n",
      "counter 109 || constitucion\n",
      "counter 110 || yulara\n",
      "counter 111 || aksarka\n",
      "counter 112 || krasnoselkup\n",
      "City not found\n",
      "counter 114 || saint-denis\n",
      "City not found\n",
      "counter 116 || vaini\n",
      "counter 117 || leningradskiy\n",
      "counter 118 || diu\n",
      "counter 119 || bati\n",
      "counter 120 || ketchikan\n",
      "counter 121 || cherskiy\n",
      "counter 122 || beira\n",
      "counter 123 || geraldton\n",
      "counter 124 || bilibino\n",
      "counter 125 || rassvet\n",
      "counter 126 || almaznyy\n",
      "counter 127 || kaitangata\n",
      "counter 128 || bac lieu\n",
      "counter 129 || iqaluit\n",
      "counter 130 || ambilobe\n",
      "counter 131 || ahipara\n",
      "counter 132 || laguna\n",
      "counter 133 || morant bay\n",
      "City not found\n",
      "counter 135 || abu samrah\n",
      "counter 136 || miram shah\n",
      "counter 137 || kavieng\n",
      "counter 138 || tandil\n",
      "counter 139 || mackay\n",
      "counter 140 || lebu\n",
      "counter 141 || clyde river\n",
      "counter 142 || chumphon\n",
      "counter 143 || arys\n",
      "counter 144 || yellowknife\n",
      "counter 145 || cabo san lucas\n",
      "counter 146 || gizo\n",
      "counter 147 || batasan\n",
      "counter 148 || mandali\n",
      "counter 149 || odessa\n",
      "City not found\n",
      "counter 151 || isangel\n",
      "counter 152 || husavik\n",
      "counter 153 || ponta do sol\n",
      "counter 154 || vostok\n",
      "counter 155 || kemijarvi\n",
      "counter 156 || cape town\n",
      "counter 157 || abha\n",
      "counter 158 || bethel\n",
      "City not found\n",
      "counter 160 || saint-philippe\n",
      "counter 161 || boa vista\n",
      "counter 162 || klaksvik\n",
      "counter 163 || upernavik\n",
      "counter 164 || cap malheureux\n",
      "counter 165 || scottsboro\n",
      "counter 166 || mayumba\n",
      "counter 167 || victoria\n",
      "counter 168 || xambioa\n",
      "counter 169 || jalu\n",
      "counter 170 || severo-kurilsk\n",
      "counter 171 || aklavik\n",
      "counter 172 || north bend\n",
      "counter 173 || norman wells\n",
      "counter 174 || coquimbo\n",
      "counter 175 || safaga\n",
      "counter 176 || moroni\n",
      "counter 177 || port elizabeth\n",
      "counter 178 || suntar\n",
      "counter 179 || lahaina\n",
      "counter 180 || tuktoyaktuk\n",
      "counter 181 || reading\n",
      "counter 182 || yeniseysk\n",
      "counter 183 || provideniya\n",
      "counter 184 || puerto ayora\n",
      "City not found\n",
      "counter 186 || bandarbeyla\n",
      "counter 187 || koungou\n",
      "counter 188 || najran\n",
      "counter 189 || nemuro\n",
      "counter 190 || wunsiedel\n",
      "counter 191 || lagos\n",
      "counter 192 || ayan\n",
      "counter 193 || wanning\n",
      "counter 194 || grand-santi\n",
      "counter 195 || pangai\n",
      "counter 196 || lorengau\n",
      "counter 197 || talas\n",
      "counter 198 || airai\n",
      "counter 199 || dwarka\n",
      "counter 200 || abapo\n",
      "counter 201 || narsaq\n",
      "counter 202 || mareeba\n",
      "counter 203 || bria\n",
      "counter 204 || torres\n",
      "counter 205 || lakes entrance\n",
      "counter 206 || talnakh\n",
      "counter 207 || xingyi\n",
      "counter 208 || souillac\n",
      "counter 209 || alofi\n",
      "counter 210 || meulaboh\n",
      "counter 211 || amga\n",
      "counter 212 || wawa\n",
      "counter 213 || kongolo\n",
      "counter 214 || east london\n",
      "counter 215 || matagami\n",
      "counter 216 || tazmalt\n",
      "counter 217 || avarua\n",
      "counter 218 || coruripe\n",
      "counter 219 || touros\n",
      "counter 220 || lagoa\n",
      "counter 221 || grindavik\n",
      "counter 222 || pevek\n",
      "counter 223 || tilichiki\n",
      "counter 224 || los llanos de aridane\n",
      "counter 225 || cortez\n",
      "counter 226 || barrow\n",
      "counter 227 || ulladulla\n",
      "counter 228 || te anau\n",
      "counter 229 || qaanaaq\n",
      "counter 230 || bengkulu\n",
      "counter 231 || opalenica\n",
      "counter 232 || shimoda\n",
      "counter 233 || fernie\n",
      "counter 234 || saldanha\n",
      "counter 235 || pemangkat\n",
      "City not found\n",
      "counter 237 || zhigansk\n",
      "counter 238 || rabaul\n",
      "counter 239 || inirida\n",
      "counter 240 || cravo norte\n",
      "counter 241 || fallon\n",
      "counter 242 || mazagao\n",
      "counter 243 || nikolskoye\n",
      "counter 244 || mar del plata\n",
      "counter 245 || fortuna\n",
      "counter 246 || sadiqabad\n",
      "counter 247 || boralday\n",
      "counter 248 || moose factory\n",
      "counter 249 || raymondville\n",
      "counter 250 || kerkini\n",
      "counter 251 || jacksonville beach\n",
      "counter 252 || mehran\n",
      "counter 253 || kendari\n",
      "counter 254 || san patricio\n",
      "counter 255 || shimanovsk\n",
      "counter 256 || la rioja\n",
      "counter 257 || nola\n",
      "counter 258 || beirut\n",
      "counter 259 || inowroclaw\n",
      "counter 260 || tuatapere\n",
      "counter 261 || sekoma\n",
      "counter 262 || bang saphan\n",
      "counter 263 || umm lajj\n",
      "counter 264 || bucak\n",
      "counter 265 || la ronge\n",
      "counter 266 || tasiilaq\n",
      "City not found\n",
      "City not found\n",
      "counter 269 || puerto narino\n",
      "counter 270 || cururupu\n",
      "City not found\n",
      "counter 272 || verkhnyaya inta\n",
      "counter 273 || balakhta\n",
      "City not found\n",
      "counter 275 || indiaroba\n",
      "counter 276 || linjiang\n",
      "counter 277 || tessalit\n",
      "counter 278 || hamilton\n",
      "counter 279 || atbasar\n",
      "counter 280 || saint george\n",
      "counter 281 || caravelas\n",
      "counter 282 || codajas\n",
      "City not found\n",
      "counter 284 || oxford\n",
      "counter 285 || lafia\n",
      "counter 286 || kidal\n",
      "counter 287 || nantucket\n",
      "counter 288 || sibu\n",
      "counter 289 || carnarvon\n",
      "counter 290 || wanlaweyn\n",
      "counter 291 || anadyr\n",
      "counter 292 || udachnyy\n",
      "counter 293 || beloha\n",
      "counter 294 || semey\n",
      "counter 295 || pital\n",
      "counter 296 || maine-soroa\n",
      "counter 297 || rudnogorsk\n",
      "counter 298 || kampot\n",
      "City not found\n",
      "counter 300 || witham\n",
      "counter 301 || chuy\n",
      "counter 302 || sakata\n",
      "counter 303 || san javier\n",
      "counter 304 || longyearbyen\n",
      "counter 305 || bira\n",
      "counter 306 || rincon\n",
      "counter 307 || tabas\n",
      "counter 308 || progreso\n",
      "counter 309 || bousso\n",
      "counter 310 || takoradi\n",
      "counter 311 || comodoro rivadavia\n",
      "counter 312 || rio grande\n",
      "counter 313 || kalevala\n",
      "counter 314 || victor harbor\n",
      "counter 315 || tobermory\n",
      "counter 316 || yurimaguas\n",
      "counter 317 || ondarroa\n",
      "counter 318 || hofn\n",
      "counter 319 || kondopoga\n",
      "counter 320 || denpasar\n",
      "counter 321 || salinopolis\n",
      "counter 322 || nador\n",
      "counter 323 || santa catarina de tepehuanes\n",
      "counter 324 || san luis\n",
      "counter 325 || nome\n",
      "counter 326 || vao\n",
      "counter 327 || luderitz\n",
      "counter 328 || kasongo\n",
      "counter 329 || zhoucun\n",
      "counter 330 || liusha\n",
      "counter 331 || petropavlovskoye\n",
      "counter 332 || makinsk\n",
      "counter 333 || werdau\n",
      "counter 334 || ust-nera\n",
      "counter 335 || masuguru\n",
      "counter 336 || palembang\n",
      "counter 337 || nam phong\n",
      "counter 338 || desbiens\n",
      "counter 339 || alyangula\n",
      "counter 340 || glen allen\n",
      "counter 341 || khandyga\n",
      "counter 342 || petropavlovsk-kamchatskiy\n",
      "counter 343 || vanimo\n",
      "counter 344 || port lincoln\n",
      "counter 345 || sinnamary\n",
      "counter 346 || joensuu\n",
      "counter 347 || lavrentiya\n",
      "City not found\n",
      "counter 349 || narrabri\n",
      "counter 350 || pangnirtung\n",
      "counter 351 || havoysund\n",
      "counter 352 || lukh\n",
      "counter 353 || katsuura\n"
     ]
    },
    {
     "name": "stdout",
     "output_type": "stream",
     "text": [
      "counter 354 || palasa\n",
      "counter 355 || boguchany\n",
      "counter 356 || nadvoitsy\n",
      "counter 357 || olinda\n",
      "counter 358 || novopodrezkovo\n",
      "counter 359 || grootfontein\n",
      "counter 360 || daru\n",
      "counter 361 || saint-joseph\n",
      "counter 362 || rexburg\n",
      "counter 363 || medea\n",
      "counter 364 || faya\n",
      "counter 365 || muros\n",
      "counter 366 || melbu\n",
      "counter 367 || riyadh\n",
      "counter 368 || sunrise manor\n",
      "counter 369 || sambava\n",
      "counter 370 || tura\n",
      "counter 371 || otane\n",
      "counter 372 || sarkand\n",
      "counter 373 || hasaki\n",
      "counter 374 || lethem\n",
      "counter 375 || oranjestad\n",
      "City not found\n",
      "counter 377 || melville\n",
      "counter 378 || tabou\n",
      "counter 379 || pando\n",
      "City not found\n",
      "counter 381 || adrar\n",
      "counter 382 || riberalta\n",
      "counter 383 || kundiawa\n",
      "counter 384 || mnogovershinnyy\n",
      "counter 385 || divnomorskoye\n",
      "counter 386 || matara\n",
      "counter 387 || kulhudhuffushi\n",
      "counter 388 || thunder bay\n",
      "counter 389 || dillon\n",
      "counter 390 || waingapu\n",
      "counter 391 || tagbina\n",
      "counter 392 || hidalgo\n",
      "counter 393 || el alto\n",
      "counter 394 || adjumani\n",
      "counter 395 || ambovombe\n",
      "counter 396 || yanam\n",
      "counter 397 || bubaque\n",
      "counter 398 || shanhetun\n",
      "counter 399 || arraial do cabo\n",
      "counter 400 || llanes\n",
      "counter 401 || bogo\n",
      "counter 402 || bahia honda\n",
      "counter 403 || shorapani\n",
      "counter 404 || vestmannaeyjar\n",
      "City not found\n",
      "counter 406 || sao gabriel da cachoeira\n",
      "counter 407 || inhambane\n",
      "counter 408 || ugoofaaru\n",
      "counter 409 || buraydah\n",
      "counter 410 || verkhovye\n",
      "counter 411 || port pirie\n",
      "counter 412 || vardo\n",
      "City not found\n",
      "counter 414 || grenfell\n",
      "counter 415 || kamenka\n",
      "counter 416 || vrangel\n",
      "counter 417 || sitka\n",
      "counter 418 || evensk\n",
      "counter 419 || zvenyhorodka\n",
      "counter 420 || taltal\n",
      "counter 421 || auki\n",
      "counter 422 || tahe\n",
      "counter 423 || biak\n",
      "counter 424 || chapada dos guimaraes\n",
      "City not found\n",
      "counter 426 || ponta delgada\n",
      "counter 427 || san carlos de bariloche\n",
      "counter 428 || cabedelo\n",
      "counter 429 || saint-pierre\n",
      "counter 430 || agadez\n",
      "counter 431 || vila franca do campo\n",
      "counter 432 || hendek\n",
      "City not found\n",
      "counter 434 || saposoa\n",
      "counter 435 || sao filipe\n",
      "counter 436 || broome\n",
      "counter 437 || naze\n",
      "counter 438 || monster\n",
      "counter 439 || oban\n",
      "counter 440 || huangmei\n",
      "counter 441 || kandrian\n",
      "counter 442 || lasa\n",
      "counter 443 || iracoubo\n",
      "counter 444 || makat\n",
      "counter 445 || padang\n",
      "counter 446 || dukat\n",
      "counter 447 || langsa\n",
      "counter 448 || dicabisagan\n",
      "counter 449 || sobolevo\n",
      "counter 450 || empangeni\n",
      "counter 451 || muisne\n",
      "counter 452 || nabire\n",
      "counter 453 || turayf\n",
      "counter 454 || brae\n",
      "counter 455 || bad doberan\n",
      "counter 456 || ambikapur\n",
      "counter 457 || roald\n",
      "counter 458 || high river\n",
      "City not found\n",
      "counter 460 || meadow lake\n",
      "counter 461 || mehamn\n",
      "counter 462 || jumla\n",
      "counter 463 || dunedin\n",
      "City not found\n",
      "counter 465 || axim\n",
      "counter 466 || ovalle\n",
      "counter 467 || waipawa\n",
      "counter 468 || rosarito\n",
      "counter 469 || san jose\n",
      "counter 470 || maragogi\n",
      "counter 471 || sibolga\n",
      "counter 472 || konch\n",
      "counter 473 || ust-koksa\n",
      "counter 474 || high level\n",
      "counter 475 || povenets\n",
      "counter 476 || shelburne\n",
      "counter 477 || niquelandia\n",
      "counter 478 || ancud\n",
      "counter 479 || langenburg\n",
      "counter 480 || dolores\n",
      "counter 481 || nouadhibou\n",
      "counter 482 || simao\n",
      "counter 483 || saryozek\n",
      "counter 484 || chapleau\n",
      "counter 485 || dengzhou\n",
      "City not found\n",
      "counter 487 || trairi\n",
      "counter 488 || sangar\n",
      "City not found\n",
      "counter 490 || khatanga\n",
      "counter 491 || san cristobal\n",
      "counter 492 || puerto maldonado\n",
      "City not found\n",
      "counter 494 || parsabad\n",
      "counter 495 || hay river\n",
      "counter 496 || kuytun\n",
      "counter 497 || newport\n",
      "counter 498 || veshenskaya\n",
      "counter 499 || grand island\n",
      "counter 500 || san rafael\n",
      "counter 501 || manokwari\n",
      "counter 502 || diffa\n",
      "counter 503 || humboldt\n",
      "counter 504 || pontianak\n",
      "counter 505 || kilifi\n",
      "counter 506 || luganville\n",
      "City not found\n",
      "counter 508 || egvekinot\n",
      "counter 509 || bethanien\n",
      "City not found\n",
      "counter 511 || sonqor\n",
      "counter 512 || itarema\n",
      "counter 513 || freeport\n",
      "City not found\n",
      "counter 515 || moerai\n",
      "counter 516 || pacific grove\n",
      "counter 517 || nayoro\n",
      "counter 518 || beringovskiy\n",
      "counter 519 || acapulco\n",
      "counter 520 || belle fourche\n",
      "counter 521 || vanavara\n",
      "counter 522 || kaitong\n",
      "counter 523 || berlevag\n",
      "counter 524 || burnie\n",
      "City not found\n",
      "counter 526 || kuala lipis\n",
      "counter 527 || bay roberts\n",
      "counter 528 || tokur\n",
      "counter 529 || skala\n",
      "counter 530 || portland\n",
      "counter 531 || birjand\n",
      "counter 532 || kichera\n",
      "counter 533 || alta floresta\n",
      "counter 534 || guarapari\n",
      "counter 535 || yugorsk\n",
      "counter 536 || vila\n",
      "counter 537 || chelbasskaya\n",
      "counter 538 || neiafu\n",
      "counter 539 || pitimbu\n",
      "counter 540 || bonavista\n",
      "counter 541 || antalaha\n",
      "City not found\n",
      "City not found\n",
      "counter 544 || canutama\n",
      "counter 545 || baykit\n",
      "counter 546 || newberry\n",
      "counter 547 || asau\n",
      "counter 548 || corning\n",
      "counter 549 || tukrah\n",
      "counter 550 || aykhal\n",
      "counter 551 || yelan\n",
      "counter 552 || burley\n",
      "counter 553 || henties bay\n",
      "counter 554 || port macquarie\n",
      "counter 555 || misratah\n",
      "counter 556 || kavaratti\n",
      "counter 557 || ust-kuyga\n",
      "counter 558 || honiara\n",
      "counter 559 || garowe\n",
      "counter 560 || gambela\n",
      "City not found\n",
      "counter 562 || linares\n",
      "counter 563 || raudeberg\n",
      "City not found\n",
      "counter 565 || broken hill\n",
      "counter 566 || whitehorse\n",
      "counter 567 || bud\n",
      "counter 568 || genhe\n",
      "counter 569 || buenos aires\n",
      "counter 570 || puerto leguizamo\n",
      "counter 571 || lata\n",
      "counter 572 || noumea\n",
      "counter 573 || mamaku\n",
      "counter 574 || venezuela\n",
      "counter 575 || sault sainte marie\n",
      "City not found\n",
      "counter 577 || colon\n",
      "counter 578 || luanda\n",
      "City not found\n",
      "counter 580 || ituporanga\n",
      "counter 581 || riorges\n",
      "counter 582 || barranquilla\n",
      "City not found\n",
      "counter 584 || buala\n",
      "counter 585 || yaan\n",
      "City not found\n",
      "counter 587 || seoul\n",
      "counter 588 || suez\n",
      "counter 589 || saint-francois\n",
      "counter 590 || castro alves\n",
      "counter 591 || lagunillas\n"
     ]
    },
    {
     "ename": "ConnectionError",
     "evalue": "('Connection aborted.', ConnectionResetError(10054, 'An existing connection was forcibly closed by the remote host', None, 10054, None))",
     "output_type": "error",
     "traceback": [
      "\u001b[1;31m---------------------------------------------------------------------------\u001b[0m",
      "\u001b[1;31mConnectionResetError\u001b[0m                      Traceback (most recent call last)",
      "\u001b[1;32m~\\Anaconda3\\envs\\PythonData\\lib\\site-packages\\urllib3\\connectionpool.py\u001b[0m in \u001b[0;36murlopen\u001b[1;34m(self, method, url, body, headers, retries, redirect, assert_same_host, timeout, pool_timeout, release_conn, chunked, body_pos, **response_kw)\u001b[0m\n\u001b[0;32m    671\u001b[0m                 \u001b[0mheaders\u001b[0m\u001b[1;33m=\u001b[0m\u001b[0mheaders\u001b[0m\u001b[1;33m,\u001b[0m\u001b[1;33m\u001b[0m\u001b[1;33m\u001b[0m\u001b[0m\n\u001b[1;32m--> 672\u001b[1;33m                 \u001b[0mchunked\u001b[0m\u001b[1;33m=\u001b[0m\u001b[0mchunked\u001b[0m\u001b[1;33m,\u001b[0m\u001b[1;33m\u001b[0m\u001b[1;33m\u001b[0m\u001b[0m\n\u001b[0m\u001b[0;32m    673\u001b[0m             )\n",
      "\u001b[1;32m~\\Anaconda3\\envs\\PythonData\\lib\\site-packages\\urllib3\\connectionpool.py\u001b[0m in \u001b[0;36m_make_request\u001b[1;34m(self, conn, method, url, timeout, chunked, **httplib_request_kw)\u001b[0m\n\u001b[0;32m    420\u001b[0m                     \u001b[1;31m# Otherwise it looks like a bug in the code.\u001b[0m\u001b[1;33m\u001b[0m\u001b[1;33m\u001b[0m\u001b[1;33m\u001b[0m\u001b[0m\n\u001b[1;32m--> 421\u001b[1;33m                     \u001b[0msix\u001b[0m\u001b[1;33m.\u001b[0m\u001b[0mraise_from\u001b[0m\u001b[1;33m(\u001b[0m\u001b[0me\u001b[0m\u001b[1;33m,\u001b[0m \u001b[1;32mNone\u001b[0m\u001b[1;33m)\u001b[0m\u001b[1;33m\u001b[0m\u001b[1;33m\u001b[0m\u001b[0m\n\u001b[0m\u001b[0;32m    422\u001b[0m         \u001b[1;32mexcept\u001b[0m \u001b[1;33m(\u001b[0m\u001b[0mSocketTimeout\u001b[0m\u001b[1;33m,\u001b[0m \u001b[0mBaseSSLError\u001b[0m\u001b[1;33m,\u001b[0m \u001b[0mSocketError\u001b[0m\u001b[1;33m)\u001b[0m \u001b[1;32mas\u001b[0m \u001b[0me\u001b[0m\u001b[1;33m:\u001b[0m\u001b[1;33m\u001b[0m\u001b[1;33m\u001b[0m\u001b[0m\n",
      "\u001b[1;32m~\\Anaconda3\\envs\\PythonData\\lib\\site-packages\\urllib3\\packages\\six.py\u001b[0m in \u001b[0;36mraise_from\u001b[1;34m(value, from_value)\u001b[0m\n",
      "\u001b[1;32m~\\Anaconda3\\envs\\PythonData\\lib\\site-packages\\urllib3\\connectionpool.py\u001b[0m in \u001b[0;36m_make_request\u001b[1;34m(self, conn, method, url, timeout, chunked, **httplib_request_kw)\u001b[0m\n\u001b[0;32m    415\u001b[0m                 \u001b[1;32mtry\u001b[0m\u001b[1;33m:\u001b[0m\u001b[1;33m\u001b[0m\u001b[1;33m\u001b[0m\u001b[0m\n\u001b[1;32m--> 416\u001b[1;33m                     \u001b[0mhttplib_response\u001b[0m \u001b[1;33m=\u001b[0m \u001b[0mconn\u001b[0m\u001b[1;33m.\u001b[0m\u001b[0mgetresponse\u001b[0m\u001b[1;33m(\u001b[0m\u001b[1;33m)\u001b[0m\u001b[1;33m\u001b[0m\u001b[1;33m\u001b[0m\u001b[0m\n\u001b[0m\u001b[0;32m    417\u001b[0m                 \u001b[1;32mexcept\u001b[0m \u001b[0mBaseException\u001b[0m \u001b[1;32mas\u001b[0m \u001b[0me\u001b[0m\u001b[1;33m:\u001b[0m\u001b[1;33m\u001b[0m\u001b[1;33m\u001b[0m\u001b[0m\n",
      "\u001b[1;32m~\\Anaconda3\\envs\\PythonData\\lib\\http\\client.py\u001b[0m in \u001b[0;36mgetresponse\u001b[1;34m(self)\u001b[0m\n\u001b[0;32m   1353\u001b[0m             \u001b[1;32mtry\u001b[0m\u001b[1;33m:\u001b[0m\u001b[1;33m\u001b[0m\u001b[1;33m\u001b[0m\u001b[0m\n\u001b[1;32m-> 1354\u001b[1;33m                 \u001b[0mresponse\u001b[0m\u001b[1;33m.\u001b[0m\u001b[0mbegin\u001b[0m\u001b[1;33m(\u001b[0m\u001b[1;33m)\u001b[0m\u001b[1;33m\u001b[0m\u001b[1;33m\u001b[0m\u001b[0m\n\u001b[0m\u001b[0;32m   1355\u001b[0m             \u001b[1;32mexcept\u001b[0m \u001b[0mConnectionError\u001b[0m\u001b[1;33m:\u001b[0m\u001b[1;33m\u001b[0m\u001b[1;33m\u001b[0m\u001b[0m\n",
      "\u001b[1;32m~\\Anaconda3\\envs\\PythonData\\lib\\http\\client.py\u001b[0m in \u001b[0;36mbegin\u001b[1;34m(self)\u001b[0m\n\u001b[0;32m    306\u001b[0m         \u001b[1;32mwhile\u001b[0m \u001b[1;32mTrue\u001b[0m\u001b[1;33m:\u001b[0m\u001b[1;33m\u001b[0m\u001b[1;33m\u001b[0m\u001b[0m\n\u001b[1;32m--> 307\u001b[1;33m             \u001b[0mversion\u001b[0m\u001b[1;33m,\u001b[0m \u001b[0mstatus\u001b[0m\u001b[1;33m,\u001b[0m \u001b[0mreason\u001b[0m \u001b[1;33m=\u001b[0m \u001b[0mself\u001b[0m\u001b[1;33m.\u001b[0m\u001b[0m_read_status\u001b[0m\u001b[1;33m(\u001b[0m\u001b[1;33m)\u001b[0m\u001b[1;33m\u001b[0m\u001b[1;33m\u001b[0m\u001b[0m\n\u001b[0m\u001b[0;32m    308\u001b[0m             \u001b[1;32mif\u001b[0m \u001b[0mstatus\u001b[0m \u001b[1;33m!=\u001b[0m \u001b[0mCONTINUE\u001b[0m\u001b[1;33m:\u001b[0m\u001b[1;33m\u001b[0m\u001b[1;33m\u001b[0m\u001b[0m\n",
      "\u001b[1;32m~\\Anaconda3\\envs\\PythonData\\lib\\http\\client.py\u001b[0m in \u001b[0;36m_read_status\u001b[1;34m(self)\u001b[0m\n\u001b[0;32m    267\u001b[0m     \u001b[1;32mdef\u001b[0m \u001b[0m_read_status\u001b[0m\u001b[1;33m(\u001b[0m\u001b[0mself\u001b[0m\u001b[1;33m)\u001b[0m\u001b[1;33m:\u001b[0m\u001b[1;33m\u001b[0m\u001b[1;33m\u001b[0m\u001b[0m\n\u001b[1;32m--> 268\u001b[1;33m         \u001b[0mline\u001b[0m \u001b[1;33m=\u001b[0m \u001b[0mstr\u001b[0m\u001b[1;33m(\u001b[0m\u001b[0mself\u001b[0m\u001b[1;33m.\u001b[0m\u001b[0mfp\u001b[0m\u001b[1;33m.\u001b[0m\u001b[0mreadline\u001b[0m\u001b[1;33m(\u001b[0m\u001b[0m_MAXLINE\u001b[0m \u001b[1;33m+\u001b[0m \u001b[1;36m1\u001b[0m\u001b[1;33m)\u001b[0m\u001b[1;33m,\u001b[0m \u001b[1;34m\"iso-8859-1\"\u001b[0m\u001b[1;33m)\u001b[0m\u001b[1;33m\u001b[0m\u001b[1;33m\u001b[0m\u001b[0m\n\u001b[0m\u001b[0;32m    269\u001b[0m         \u001b[1;32mif\u001b[0m \u001b[0mlen\u001b[0m\u001b[1;33m(\u001b[0m\u001b[0mline\u001b[0m\u001b[1;33m)\u001b[0m \u001b[1;33m>\u001b[0m \u001b[0m_MAXLINE\u001b[0m\u001b[1;33m:\u001b[0m\u001b[1;33m\u001b[0m\u001b[1;33m\u001b[0m\u001b[0m\n",
      "\u001b[1;32m~\\Anaconda3\\envs\\PythonData\\lib\\socket.py\u001b[0m in \u001b[0;36mreadinto\u001b[1;34m(self, b)\u001b[0m\n\u001b[0;32m    585\u001b[0m             \u001b[1;32mtry\u001b[0m\u001b[1;33m:\u001b[0m\u001b[1;33m\u001b[0m\u001b[1;33m\u001b[0m\u001b[0m\n\u001b[1;32m--> 586\u001b[1;33m                 \u001b[1;32mreturn\u001b[0m \u001b[0mself\u001b[0m\u001b[1;33m.\u001b[0m\u001b[0m_sock\u001b[0m\u001b[1;33m.\u001b[0m\u001b[0mrecv_into\u001b[0m\u001b[1;33m(\u001b[0m\u001b[0mb\u001b[0m\u001b[1;33m)\u001b[0m\u001b[1;33m\u001b[0m\u001b[1;33m\u001b[0m\u001b[0m\n\u001b[0m\u001b[0;32m    587\u001b[0m             \u001b[1;32mexcept\u001b[0m \u001b[0mtimeout\u001b[0m\u001b[1;33m:\u001b[0m\u001b[1;33m\u001b[0m\u001b[1;33m\u001b[0m\u001b[0m\n",
      "\u001b[1;31mConnectionResetError\u001b[0m: [WinError 10054] An existing connection was forcibly closed by the remote host",
      "\nDuring handling of the above exception, another exception occurred:\n",
      "\u001b[1;31mProtocolError\u001b[0m                             Traceback (most recent call last)",
      "\u001b[1;32m~\\Anaconda3\\envs\\PythonData\\lib\\site-packages\\requests\\adapters.py\u001b[0m in \u001b[0;36msend\u001b[1;34m(self, request, stream, timeout, verify, cert, proxies)\u001b[0m\n\u001b[0;32m    448\u001b[0m                     \u001b[0mretries\u001b[0m\u001b[1;33m=\u001b[0m\u001b[0mself\u001b[0m\u001b[1;33m.\u001b[0m\u001b[0mmax_retries\u001b[0m\u001b[1;33m,\u001b[0m\u001b[1;33m\u001b[0m\u001b[1;33m\u001b[0m\u001b[0m\n\u001b[1;32m--> 449\u001b[1;33m                     \u001b[0mtimeout\u001b[0m\u001b[1;33m=\u001b[0m\u001b[0mtimeout\u001b[0m\u001b[1;33m\u001b[0m\u001b[1;33m\u001b[0m\u001b[0m\n\u001b[0m\u001b[0;32m    450\u001b[0m                 )\n",
      "\u001b[1;32m~\\Anaconda3\\envs\\PythonData\\lib\\site-packages\\urllib3\\connectionpool.py\u001b[0m in \u001b[0;36murlopen\u001b[1;34m(self, method, url, body, headers, retries, redirect, assert_same_host, timeout, pool_timeout, release_conn, chunked, body_pos, **response_kw)\u001b[0m\n\u001b[0;32m    719\u001b[0m             retries = retries.increment(\n\u001b[1;32m--> 720\u001b[1;33m                 \u001b[0mmethod\u001b[0m\u001b[1;33m,\u001b[0m \u001b[0murl\u001b[0m\u001b[1;33m,\u001b[0m \u001b[0merror\u001b[0m\u001b[1;33m=\u001b[0m\u001b[0me\u001b[0m\u001b[1;33m,\u001b[0m \u001b[0m_pool\u001b[0m\u001b[1;33m=\u001b[0m\u001b[0mself\u001b[0m\u001b[1;33m,\u001b[0m \u001b[0m_stacktrace\u001b[0m\u001b[1;33m=\u001b[0m\u001b[0msys\u001b[0m\u001b[1;33m.\u001b[0m\u001b[0mexc_info\u001b[0m\u001b[1;33m(\u001b[0m\u001b[1;33m)\u001b[0m\u001b[1;33m[\u001b[0m\u001b[1;36m2\u001b[0m\u001b[1;33m]\u001b[0m\u001b[1;33m\u001b[0m\u001b[1;33m\u001b[0m\u001b[0m\n\u001b[0m\u001b[0;32m    721\u001b[0m             )\n",
      "\u001b[1;32m~\\Anaconda3\\envs\\PythonData\\lib\\site-packages\\urllib3\\util\\retry.py\u001b[0m in \u001b[0;36mincrement\u001b[1;34m(self, method, url, response, error, _pool, _stacktrace)\u001b[0m\n\u001b[0;32m    399\u001b[0m             \u001b[1;32mif\u001b[0m \u001b[0mread\u001b[0m \u001b[1;32mis\u001b[0m \u001b[1;32mFalse\u001b[0m \u001b[1;32mor\u001b[0m \u001b[1;32mnot\u001b[0m \u001b[0mself\u001b[0m\u001b[1;33m.\u001b[0m\u001b[0m_is_method_retryable\u001b[0m\u001b[1;33m(\u001b[0m\u001b[0mmethod\u001b[0m\u001b[1;33m)\u001b[0m\u001b[1;33m:\u001b[0m\u001b[1;33m\u001b[0m\u001b[1;33m\u001b[0m\u001b[0m\n\u001b[1;32m--> 400\u001b[1;33m                 \u001b[1;32mraise\u001b[0m \u001b[0msix\u001b[0m\u001b[1;33m.\u001b[0m\u001b[0mreraise\u001b[0m\u001b[1;33m(\u001b[0m\u001b[0mtype\u001b[0m\u001b[1;33m(\u001b[0m\u001b[0merror\u001b[0m\u001b[1;33m)\u001b[0m\u001b[1;33m,\u001b[0m \u001b[0merror\u001b[0m\u001b[1;33m,\u001b[0m \u001b[0m_stacktrace\u001b[0m\u001b[1;33m)\u001b[0m\u001b[1;33m\u001b[0m\u001b[1;33m\u001b[0m\u001b[0m\n\u001b[0m\u001b[0;32m    401\u001b[0m             \u001b[1;32melif\u001b[0m \u001b[0mread\u001b[0m \u001b[1;32mis\u001b[0m \u001b[1;32mnot\u001b[0m \u001b[1;32mNone\u001b[0m\u001b[1;33m:\u001b[0m\u001b[1;33m\u001b[0m\u001b[1;33m\u001b[0m\u001b[0m\n",
      "\u001b[1;32m~\\Anaconda3\\envs\\PythonData\\lib\\site-packages\\urllib3\\packages\\six.py\u001b[0m in \u001b[0;36mreraise\u001b[1;34m(tp, value, tb)\u001b[0m\n\u001b[0;32m    733\u001b[0m             \u001b[1;32mif\u001b[0m \u001b[0mvalue\u001b[0m\u001b[1;33m.\u001b[0m\u001b[0m__traceback__\u001b[0m \u001b[1;32mis\u001b[0m \u001b[1;32mnot\u001b[0m \u001b[0mtb\u001b[0m\u001b[1;33m:\u001b[0m\u001b[1;33m\u001b[0m\u001b[1;33m\u001b[0m\u001b[0m\n\u001b[1;32m--> 734\u001b[1;33m                 \u001b[1;32mraise\u001b[0m \u001b[0mvalue\u001b[0m\u001b[1;33m.\u001b[0m\u001b[0mwith_traceback\u001b[0m\u001b[1;33m(\u001b[0m\u001b[0mtb\u001b[0m\u001b[1;33m)\u001b[0m\u001b[1;33m\u001b[0m\u001b[1;33m\u001b[0m\u001b[0m\n\u001b[0m\u001b[0;32m    735\u001b[0m             \u001b[1;32mraise\u001b[0m \u001b[0mvalue\u001b[0m\u001b[1;33m\u001b[0m\u001b[1;33m\u001b[0m\u001b[0m\n",
      "\u001b[1;32m~\\Anaconda3\\envs\\PythonData\\lib\\site-packages\\urllib3\\connectionpool.py\u001b[0m in \u001b[0;36murlopen\u001b[1;34m(self, method, url, body, headers, retries, redirect, assert_same_host, timeout, pool_timeout, release_conn, chunked, body_pos, **response_kw)\u001b[0m\n\u001b[0;32m    671\u001b[0m                 \u001b[0mheaders\u001b[0m\u001b[1;33m=\u001b[0m\u001b[0mheaders\u001b[0m\u001b[1;33m,\u001b[0m\u001b[1;33m\u001b[0m\u001b[1;33m\u001b[0m\u001b[0m\n\u001b[1;32m--> 672\u001b[1;33m                 \u001b[0mchunked\u001b[0m\u001b[1;33m=\u001b[0m\u001b[0mchunked\u001b[0m\u001b[1;33m,\u001b[0m\u001b[1;33m\u001b[0m\u001b[1;33m\u001b[0m\u001b[0m\n\u001b[0m\u001b[0;32m    673\u001b[0m             )\n",
      "\u001b[1;32m~\\Anaconda3\\envs\\PythonData\\lib\\site-packages\\urllib3\\connectionpool.py\u001b[0m in \u001b[0;36m_make_request\u001b[1;34m(self, conn, method, url, timeout, chunked, **httplib_request_kw)\u001b[0m\n\u001b[0;32m    420\u001b[0m                     \u001b[1;31m# Otherwise it looks like a bug in the code.\u001b[0m\u001b[1;33m\u001b[0m\u001b[1;33m\u001b[0m\u001b[1;33m\u001b[0m\u001b[0m\n\u001b[1;32m--> 421\u001b[1;33m                     \u001b[0msix\u001b[0m\u001b[1;33m.\u001b[0m\u001b[0mraise_from\u001b[0m\u001b[1;33m(\u001b[0m\u001b[0me\u001b[0m\u001b[1;33m,\u001b[0m \u001b[1;32mNone\u001b[0m\u001b[1;33m)\u001b[0m\u001b[1;33m\u001b[0m\u001b[1;33m\u001b[0m\u001b[0m\n\u001b[0m\u001b[0;32m    422\u001b[0m         \u001b[1;32mexcept\u001b[0m \u001b[1;33m(\u001b[0m\u001b[0mSocketTimeout\u001b[0m\u001b[1;33m,\u001b[0m \u001b[0mBaseSSLError\u001b[0m\u001b[1;33m,\u001b[0m \u001b[0mSocketError\u001b[0m\u001b[1;33m)\u001b[0m \u001b[1;32mas\u001b[0m \u001b[0me\u001b[0m\u001b[1;33m:\u001b[0m\u001b[1;33m\u001b[0m\u001b[1;33m\u001b[0m\u001b[0m\n",
      "\u001b[1;32m~\\Anaconda3\\envs\\PythonData\\lib\\site-packages\\urllib3\\packages\\six.py\u001b[0m in \u001b[0;36mraise_from\u001b[1;34m(value, from_value)\u001b[0m\n",
      "\u001b[1;32m~\\Anaconda3\\envs\\PythonData\\lib\\site-packages\\urllib3\\connectionpool.py\u001b[0m in \u001b[0;36m_make_request\u001b[1;34m(self, conn, method, url, timeout, chunked, **httplib_request_kw)\u001b[0m\n\u001b[0;32m    415\u001b[0m                 \u001b[1;32mtry\u001b[0m\u001b[1;33m:\u001b[0m\u001b[1;33m\u001b[0m\u001b[1;33m\u001b[0m\u001b[0m\n\u001b[1;32m--> 416\u001b[1;33m                     \u001b[0mhttplib_response\u001b[0m \u001b[1;33m=\u001b[0m \u001b[0mconn\u001b[0m\u001b[1;33m.\u001b[0m\u001b[0mgetresponse\u001b[0m\u001b[1;33m(\u001b[0m\u001b[1;33m)\u001b[0m\u001b[1;33m\u001b[0m\u001b[1;33m\u001b[0m\u001b[0m\n\u001b[0m\u001b[0;32m    417\u001b[0m                 \u001b[1;32mexcept\u001b[0m \u001b[0mBaseException\u001b[0m \u001b[1;32mas\u001b[0m \u001b[0me\u001b[0m\u001b[1;33m:\u001b[0m\u001b[1;33m\u001b[0m\u001b[1;33m\u001b[0m\u001b[0m\n",
      "\u001b[1;32m~\\Anaconda3\\envs\\PythonData\\lib\\http\\client.py\u001b[0m in \u001b[0;36mgetresponse\u001b[1;34m(self)\u001b[0m\n\u001b[0;32m   1353\u001b[0m             \u001b[1;32mtry\u001b[0m\u001b[1;33m:\u001b[0m\u001b[1;33m\u001b[0m\u001b[1;33m\u001b[0m\u001b[0m\n\u001b[1;32m-> 1354\u001b[1;33m                 \u001b[0mresponse\u001b[0m\u001b[1;33m.\u001b[0m\u001b[0mbegin\u001b[0m\u001b[1;33m(\u001b[0m\u001b[1;33m)\u001b[0m\u001b[1;33m\u001b[0m\u001b[1;33m\u001b[0m\u001b[0m\n\u001b[0m\u001b[0;32m   1355\u001b[0m             \u001b[1;32mexcept\u001b[0m \u001b[0mConnectionError\u001b[0m\u001b[1;33m:\u001b[0m\u001b[1;33m\u001b[0m\u001b[1;33m\u001b[0m\u001b[0m\n",
      "\u001b[1;32m~\\Anaconda3\\envs\\PythonData\\lib\\http\\client.py\u001b[0m in \u001b[0;36mbegin\u001b[1;34m(self)\u001b[0m\n\u001b[0;32m    306\u001b[0m         \u001b[1;32mwhile\u001b[0m \u001b[1;32mTrue\u001b[0m\u001b[1;33m:\u001b[0m\u001b[1;33m\u001b[0m\u001b[1;33m\u001b[0m\u001b[0m\n\u001b[1;32m--> 307\u001b[1;33m             \u001b[0mversion\u001b[0m\u001b[1;33m,\u001b[0m \u001b[0mstatus\u001b[0m\u001b[1;33m,\u001b[0m \u001b[0mreason\u001b[0m \u001b[1;33m=\u001b[0m \u001b[0mself\u001b[0m\u001b[1;33m.\u001b[0m\u001b[0m_read_status\u001b[0m\u001b[1;33m(\u001b[0m\u001b[1;33m)\u001b[0m\u001b[1;33m\u001b[0m\u001b[1;33m\u001b[0m\u001b[0m\n\u001b[0m\u001b[0;32m    308\u001b[0m             \u001b[1;32mif\u001b[0m \u001b[0mstatus\u001b[0m \u001b[1;33m!=\u001b[0m \u001b[0mCONTINUE\u001b[0m\u001b[1;33m:\u001b[0m\u001b[1;33m\u001b[0m\u001b[1;33m\u001b[0m\u001b[0m\n",
      "\u001b[1;32m~\\Anaconda3\\envs\\PythonData\\lib\\http\\client.py\u001b[0m in \u001b[0;36m_read_status\u001b[1;34m(self)\u001b[0m\n\u001b[0;32m    267\u001b[0m     \u001b[1;32mdef\u001b[0m \u001b[0m_read_status\u001b[0m\u001b[1;33m(\u001b[0m\u001b[0mself\u001b[0m\u001b[1;33m)\u001b[0m\u001b[1;33m:\u001b[0m\u001b[1;33m\u001b[0m\u001b[1;33m\u001b[0m\u001b[0m\n\u001b[1;32m--> 268\u001b[1;33m         \u001b[0mline\u001b[0m \u001b[1;33m=\u001b[0m \u001b[0mstr\u001b[0m\u001b[1;33m(\u001b[0m\u001b[0mself\u001b[0m\u001b[1;33m.\u001b[0m\u001b[0mfp\u001b[0m\u001b[1;33m.\u001b[0m\u001b[0mreadline\u001b[0m\u001b[1;33m(\u001b[0m\u001b[0m_MAXLINE\u001b[0m \u001b[1;33m+\u001b[0m \u001b[1;36m1\u001b[0m\u001b[1;33m)\u001b[0m\u001b[1;33m,\u001b[0m \u001b[1;34m\"iso-8859-1\"\u001b[0m\u001b[1;33m)\u001b[0m\u001b[1;33m\u001b[0m\u001b[1;33m\u001b[0m\u001b[0m\n\u001b[0m\u001b[0;32m    269\u001b[0m         \u001b[1;32mif\u001b[0m \u001b[0mlen\u001b[0m\u001b[1;33m(\u001b[0m\u001b[0mline\u001b[0m\u001b[1;33m)\u001b[0m \u001b[1;33m>\u001b[0m \u001b[0m_MAXLINE\u001b[0m\u001b[1;33m:\u001b[0m\u001b[1;33m\u001b[0m\u001b[1;33m\u001b[0m\u001b[0m\n",
      "\u001b[1;32m~\\Anaconda3\\envs\\PythonData\\lib\\socket.py\u001b[0m in \u001b[0;36mreadinto\u001b[1;34m(self, b)\u001b[0m\n\u001b[0;32m    585\u001b[0m             \u001b[1;32mtry\u001b[0m\u001b[1;33m:\u001b[0m\u001b[1;33m\u001b[0m\u001b[1;33m\u001b[0m\u001b[0m\n\u001b[1;32m--> 586\u001b[1;33m                 \u001b[1;32mreturn\u001b[0m \u001b[0mself\u001b[0m\u001b[1;33m.\u001b[0m\u001b[0m_sock\u001b[0m\u001b[1;33m.\u001b[0m\u001b[0mrecv_into\u001b[0m\u001b[1;33m(\u001b[0m\u001b[0mb\u001b[0m\u001b[1;33m)\u001b[0m\u001b[1;33m\u001b[0m\u001b[1;33m\u001b[0m\u001b[0m\n\u001b[0m\u001b[0;32m    587\u001b[0m             \u001b[1;32mexcept\u001b[0m \u001b[0mtimeout\u001b[0m\u001b[1;33m:\u001b[0m\u001b[1;33m\u001b[0m\u001b[1;33m\u001b[0m\u001b[0m\n",
      "\u001b[1;31mProtocolError\u001b[0m: ('Connection aborted.', ConnectionResetError(10054, 'An existing connection was forcibly closed by the remote host', None, 10054, None))",
      "\nDuring handling of the above exception, another exception occurred:\n",
      "\u001b[1;31mConnectionError\u001b[0m                           Traceback (most recent call last)",
      "\u001b[1;32m<ipython-input-5-c22e63f1c305>\u001b[0m in \u001b[0;36m<module>\u001b[1;34m\u001b[0m\n\u001b[0;32m      7\u001b[0m \u001b[1;32mfor\u001b[0m \u001b[0mcity\u001b[0m \u001b[1;32min\u001b[0m \u001b[0mcities\u001b[0m\u001b[1;33m:\u001b[0m\u001b[1;33m\u001b[0m\u001b[1;33m\u001b[0m\u001b[0m\n\u001b[0;32m      8\u001b[0m     \u001b[1;31m# make request  # convert to json\u001b[0m\u001b[1;33m\u001b[0m\u001b[1;33m\u001b[0m\u001b[1;33m\u001b[0m\u001b[0m\n\u001b[1;32m----> 9\u001b[1;33m     \u001b[0mresponse\u001b[0m \u001b[1;33m=\u001b[0m \u001b[0mrequests\u001b[0m\u001b[1;33m.\u001b[0m\u001b[0mget\u001b[0m\u001b[1;33m(\u001b[0m\u001b[0mbase_url\u001b[0m \u001b[1;33m+\u001b[0m \u001b[0mcity\u001b[0m\u001b[1;33m)\u001b[0m\u001b[1;33m.\u001b[0m\u001b[0mjson\u001b[0m\u001b[1;33m(\u001b[0m\u001b[1;33m)\u001b[0m\u001b[1;33m\u001b[0m\u001b[1;33m\u001b[0m\u001b[0m\n\u001b[0m\u001b[0;32m     10\u001b[0m     \u001b[0mcounter\u001b[0m \u001b[1;33m=\u001b[0m \u001b[0mcounter\u001b[0m \u001b[1;33m+\u001b[0m \u001b[1;36m1\u001b[0m\u001b[1;33m\u001b[0m\u001b[1;33m\u001b[0m\u001b[0m\n\u001b[0;32m     11\u001b[0m \u001b[1;33m\u001b[0m\u001b[0m\n",
      "\u001b[1;32m~\\Anaconda3\\envs\\PythonData\\lib\\site-packages\\requests\\api.py\u001b[0m in \u001b[0;36mget\u001b[1;34m(url, params, **kwargs)\u001b[0m\n\u001b[0;32m     73\u001b[0m \u001b[1;33m\u001b[0m\u001b[0m\n\u001b[0;32m     74\u001b[0m     \u001b[0mkwargs\u001b[0m\u001b[1;33m.\u001b[0m\u001b[0msetdefault\u001b[0m\u001b[1;33m(\u001b[0m\u001b[1;34m'allow_redirects'\u001b[0m\u001b[1;33m,\u001b[0m \u001b[1;32mTrue\u001b[0m\u001b[1;33m)\u001b[0m\u001b[1;33m\u001b[0m\u001b[1;33m\u001b[0m\u001b[0m\n\u001b[1;32m---> 75\u001b[1;33m     \u001b[1;32mreturn\u001b[0m \u001b[0mrequest\u001b[0m\u001b[1;33m(\u001b[0m\u001b[1;34m'get'\u001b[0m\u001b[1;33m,\u001b[0m \u001b[0murl\u001b[0m\u001b[1;33m,\u001b[0m \u001b[0mparams\u001b[0m\u001b[1;33m=\u001b[0m\u001b[0mparams\u001b[0m\u001b[1;33m,\u001b[0m \u001b[1;33m**\u001b[0m\u001b[0mkwargs\u001b[0m\u001b[1;33m)\u001b[0m\u001b[1;33m\u001b[0m\u001b[1;33m\u001b[0m\u001b[0m\n\u001b[0m\u001b[0;32m     76\u001b[0m \u001b[1;33m\u001b[0m\u001b[0m\n\u001b[0;32m     77\u001b[0m \u001b[1;33m\u001b[0m\u001b[0m\n",
      "\u001b[1;32m~\\Anaconda3\\envs\\PythonData\\lib\\site-packages\\requests\\api.py\u001b[0m in \u001b[0;36mrequest\u001b[1;34m(method, url, **kwargs)\u001b[0m\n\u001b[0;32m     58\u001b[0m     \u001b[1;31m# cases, and look like a memory leak in others.\u001b[0m\u001b[1;33m\u001b[0m\u001b[1;33m\u001b[0m\u001b[1;33m\u001b[0m\u001b[0m\n\u001b[0;32m     59\u001b[0m     \u001b[1;32mwith\u001b[0m \u001b[0msessions\u001b[0m\u001b[1;33m.\u001b[0m\u001b[0mSession\u001b[0m\u001b[1;33m(\u001b[0m\u001b[1;33m)\u001b[0m \u001b[1;32mas\u001b[0m \u001b[0msession\u001b[0m\u001b[1;33m:\u001b[0m\u001b[1;33m\u001b[0m\u001b[1;33m\u001b[0m\u001b[0m\n\u001b[1;32m---> 60\u001b[1;33m         \u001b[1;32mreturn\u001b[0m \u001b[0msession\u001b[0m\u001b[1;33m.\u001b[0m\u001b[0mrequest\u001b[0m\u001b[1;33m(\u001b[0m\u001b[0mmethod\u001b[0m\u001b[1;33m=\u001b[0m\u001b[0mmethod\u001b[0m\u001b[1;33m,\u001b[0m \u001b[0murl\u001b[0m\u001b[1;33m=\u001b[0m\u001b[0murl\u001b[0m\u001b[1;33m,\u001b[0m \u001b[1;33m**\u001b[0m\u001b[0mkwargs\u001b[0m\u001b[1;33m)\u001b[0m\u001b[1;33m\u001b[0m\u001b[1;33m\u001b[0m\u001b[0m\n\u001b[0m\u001b[0;32m     61\u001b[0m \u001b[1;33m\u001b[0m\u001b[0m\n\u001b[0;32m     62\u001b[0m \u001b[1;33m\u001b[0m\u001b[0m\n",
      "\u001b[1;32m~\\Anaconda3\\envs\\PythonData\\lib\\site-packages\\requests\\sessions.py\u001b[0m in \u001b[0;36mrequest\u001b[1;34m(self, method, url, params, data, headers, cookies, files, auth, timeout, allow_redirects, proxies, hooks, stream, verify, cert, json)\u001b[0m\n\u001b[0;32m    531\u001b[0m         }\n\u001b[0;32m    532\u001b[0m         \u001b[0msend_kwargs\u001b[0m\u001b[1;33m.\u001b[0m\u001b[0mupdate\u001b[0m\u001b[1;33m(\u001b[0m\u001b[0msettings\u001b[0m\u001b[1;33m)\u001b[0m\u001b[1;33m\u001b[0m\u001b[1;33m\u001b[0m\u001b[0m\n\u001b[1;32m--> 533\u001b[1;33m         \u001b[0mresp\u001b[0m \u001b[1;33m=\u001b[0m \u001b[0mself\u001b[0m\u001b[1;33m.\u001b[0m\u001b[0msend\u001b[0m\u001b[1;33m(\u001b[0m\u001b[0mprep\u001b[0m\u001b[1;33m,\u001b[0m \u001b[1;33m**\u001b[0m\u001b[0msend_kwargs\u001b[0m\u001b[1;33m)\u001b[0m\u001b[1;33m\u001b[0m\u001b[1;33m\u001b[0m\u001b[0m\n\u001b[0m\u001b[0;32m    534\u001b[0m \u001b[1;33m\u001b[0m\u001b[0m\n\u001b[0;32m    535\u001b[0m         \u001b[1;32mreturn\u001b[0m \u001b[0mresp\u001b[0m\u001b[1;33m\u001b[0m\u001b[1;33m\u001b[0m\u001b[0m\n",
      "\u001b[1;32m~\\Anaconda3\\envs\\PythonData\\lib\\site-packages\\requests\\sessions.py\u001b[0m in \u001b[0;36msend\u001b[1;34m(self, request, **kwargs)\u001b[0m\n\u001b[0;32m    644\u001b[0m \u001b[1;33m\u001b[0m\u001b[0m\n\u001b[0;32m    645\u001b[0m         \u001b[1;31m# Send the request\u001b[0m\u001b[1;33m\u001b[0m\u001b[1;33m\u001b[0m\u001b[1;33m\u001b[0m\u001b[0m\n\u001b[1;32m--> 646\u001b[1;33m         \u001b[0mr\u001b[0m \u001b[1;33m=\u001b[0m \u001b[0madapter\u001b[0m\u001b[1;33m.\u001b[0m\u001b[0msend\u001b[0m\u001b[1;33m(\u001b[0m\u001b[0mrequest\u001b[0m\u001b[1;33m,\u001b[0m \u001b[1;33m**\u001b[0m\u001b[0mkwargs\u001b[0m\u001b[1;33m)\u001b[0m\u001b[1;33m\u001b[0m\u001b[1;33m\u001b[0m\u001b[0m\n\u001b[0m\u001b[0;32m    647\u001b[0m \u001b[1;33m\u001b[0m\u001b[0m\n\u001b[0;32m    648\u001b[0m         \u001b[1;31m# Total elapsed time of the request (approximately)\u001b[0m\u001b[1;33m\u001b[0m\u001b[1;33m\u001b[0m\u001b[1;33m\u001b[0m\u001b[0m\n",
      "\u001b[1;32m~\\Anaconda3\\envs\\PythonData\\lib\\site-packages\\requests\\adapters.py\u001b[0m in \u001b[0;36msend\u001b[1;34m(self, request, stream, timeout, verify, cert, proxies)\u001b[0m\n\u001b[0;32m    496\u001b[0m \u001b[1;33m\u001b[0m\u001b[0m\n\u001b[0;32m    497\u001b[0m         \u001b[1;32mexcept\u001b[0m \u001b[1;33m(\u001b[0m\u001b[0mProtocolError\u001b[0m\u001b[1;33m,\u001b[0m \u001b[0msocket\u001b[0m\u001b[1;33m.\u001b[0m\u001b[0merror\u001b[0m\u001b[1;33m)\u001b[0m \u001b[1;32mas\u001b[0m \u001b[0merr\u001b[0m\u001b[1;33m:\u001b[0m\u001b[1;33m\u001b[0m\u001b[1;33m\u001b[0m\u001b[0m\n\u001b[1;32m--> 498\u001b[1;33m             \u001b[1;32mraise\u001b[0m \u001b[0mConnectionError\u001b[0m\u001b[1;33m(\u001b[0m\u001b[0merr\u001b[0m\u001b[1;33m,\u001b[0m \u001b[0mrequest\u001b[0m\u001b[1;33m=\u001b[0m\u001b[0mrequest\u001b[0m\u001b[1;33m)\u001b[0m\u001b[1;33m\u001b[0m\u001b[1;33m\u001b[0m\u001b[0m\n\u001b[0m\u001b[0;32m    499\u001b[0m \u001b[1;33m\u001b[0m\u001b[0m\n\u001b[0;32m    500\u001b[0m         \u001b[1;32mexcept\u001b[0m \u001b[0mMaxRetryError\u001b[0m \u001b[1;32mas\u001b[0m \u001b[0me\u001b[0m\u001b[1;33m:\u001b[0m\u001b[1;33m\u001b[0m\u001b[1;33m\u001b[0m\u001b[0m\n",
      "\u001b[1;31mConnectionError\u001b[0m: ('Connection aborted.', ConnectionResetError(10054, 'An existing connection was forcibly closed by the remote host', None, 10054, None))"
     ]
    }
   ],
   "source": [
    "#create empty list for city and counter\n",
    "city_list = []\n",
    "counter = 0\n",
    "\n",
    "#Loop through cities \n",
    "\n",
    "for city in cities: \n",
    "    # make request  # convert to json\n",
    "    response = requests.get(base_url + city).json()\n",
    "    counter = counter + 1\n",
    "    \n",
    "    try:\n",
    "        temp = response[\"main\"][\"temp_max\"] \n",
    "        hum = response[\"main\"][\"humidity\"]\n",
    "        speed = response[\"wind\"][\"speed\"]\n",
    "        clouds = response[\"clouds\"][\"all\"]\n",
    "        country = response[\"sys\"][\"country\"]\n",
    "        date = response[\"dt\"]\n",
    "        lat = response[\"coord\"][\"lat\"]\n",
    "        lng = response[\"coord\"][\"lon\"]\n",
    "        city_list.append([counter, city, temp, hum, speed, clouds, country, date, lat, lng])\n",
    "        print(f\"counter {counter} || {city}\")\n",
    "        time.sleep(.1)\n",
    "    except:\n",
    "        print(\"City not found\")\n",
    "        "
   ]
  },
  {
   "cell_type": "markdown",
   "metadata": {},
   "source": [
    "### Convert Raw Data to DataFrame\n",
    "* Export the city data into a .csv.\n",
    "* Display the DataFrame"
   ]
  },
  {
   "cell_type": "code",
   "execution_count": 6,
   "metadata": {},
   "outputs": [
    {
     "data": {
      "text/html": [
       "<div>\n",
       "<style scoped>\n",
       "    .dataframe tbody tr th:only-of-type {\n",
       "        vertical-align: middle;\n",
       "    }\n",
       "\n",
       "    .dataframe tbody tr th {\n",
       "        vertical-align: top;\n",
       "    }\n",
       "\n",
       "    .dataframe thead th {\n",
       "        text-align: right;\n",
       "    }\n",
       "</style>\n",
       "<table border=\"1\" class=\"dataframe\">\n",
       "  <thead>\n",
       "    <tr style=\"text-align: right;\">\n",
       "      <th></th>\n",
       "      <th>City Id</th>\n",
       "      <th>City</th>\n",
       "      <th>Max Temp</th>\n",
       "      <th>Humidity</th>\n",
       "      <th>Wind Speed</th>\n",
       "      <th>Cloudiness</th>\n",
       "      <th>Country</th>\n",
       "      <th>Date</th>\n",
       "      <th>Lat</th>\n",
       "      <th>Lng</th>\n",
       "    </tr>\n",
       "  </thead>\n",
       "  <tbody>\n",
       "    <tr>\n",
       "      <th>0</th>\n",
       "      <td>1</td>\n",
       "      <td>ushuaia</td>\n",
       "      <td>11.00</td>\n",
       "      <td>87</td>\n",
       "      <td>2.60</td>\n",
       "      <td>40</td>\n",
       "      <td>AR</td>\n",
       "      <td>1583379706</td>\n",
       "      <td>-54.80</td>\n",
       "      <td>-68.30</td>\n",
       "    </tr>\n",
       "    <tr>\n",
       "      <th>1</th>\n",
       "      <td>2</td>\n",
       "      <td>joquicingo</td>\n",
       "      <td>20.00</td>\n",
       "      <td>32</td>\n",
       "      <td>2.60</td>\n",
       "      <td>40</td>\n",
       "      <td>MX</td>\n",
       "      <td>1583379707</td>\n",
       "      <td>19.05</td>\n",
       "      <td>-99.47</td>\n",
       "    </tr>\n",
       "    <tr>\n",
       "      <th>2</th>\n",
       "      <td>3</td>\n",
       "      <td>salalah</td>\n",
       "      <td>23.00</td>\n",
       "      <td>20</td>\n",
       "      <td>2.60</td>\n",
       "      <td>0</td>\n",
       "      <td>OM</td>\n",
       "      <td>1583379707</td>\n",
       "      <td>17.02</td>\n",
       "      <td>54.09</td>\n",
       "    </tr>\n",
       "    <tr>\n",
       "      <th>3</th>\n",
       "      <td>4</td>\n",
       "      <td>rikitea</td>\n",
       "      <td>25.29</td>\n",
       "      <td>73</td>\n",
       "      <td>8.84</td>\n",
       "      <td>66</td>\n",
       "      <td>PF</td>\n",
       "      <td>1583379707</td>\n",
       "      <td>-23.12</td>\n",
       "      <td>-134.97</td>\n",
       "    </tr>\n",
       "    <tr>\n",
       "      <th>4</th>\n",
       "      <td>5</td>\n",
       "      <td>jamestown</td>\n",
       "      <td>1.11</td>\n",
       "      <td>100</td>\n",
       "      <td>5.70</td>\n",
       "      <td>90</td>\n",
       "      <td>US</td>\n",
       "      <td>1583379707</td>\n",
       "      <td>42.10</td>\n",
       "      <td>-79.24</td>\n",
       "    </tr>\n",
       "  </tbody>\n",
       "</table>\n",
       "</div>"
      ],
      "text/plain": [
       "   City Id        City  Max Temp  Humidity  Wind Speed  Cloudiness Country  \\\n",
       "0        1     ushuaia     11.00        87        2.60          40      AR   \n",
       "1        2  joquicingo     20.00        32        2.60          40      MX   \n",
       "2        3     salalah     23.00        20        2.60           0      OM   \n",
       "3        4     rikitea     25.29        73        8.84          66      PF   \n",
       "4        5   jamestown      1.11       100        5.70          90      US   \n",
       "\n",
       "         Date    Lat     Lng  \n",
       "0  1583379706 -54.80  -68.30  \n",
       "1  1583379707  19.05  -99.47  \n",
       "2  1583379707  17.02   54.09  \n",
       "3  1583379707 -23.12 -134.97  \n",
       "4  1583379707  42.10  -79.24  "
      ]
     },
     "execution_count": 6,
     "metadata": {},
     "output_type": "execute_result"
    }
   ],
   "source": [
    "cities_pd = pd.DataFrame(city_list, columns=([\"City Id\",\"City\", \"Max Temp\", \"Humidity\", \"Wind Speed\", \"Cloudiness\", \"Country\", \"Date\", \"Lat\", \"Lng\"]))\n",
    "cities_pd.head()"
   ]
  },
  {
   "cell_type": "code",
   "execution_count": null,
   "metadata": {},
   "outputs": [],
   "source": [
    "# Save Data to csv\n",
    "cities_pd.to_csv(\"Cities_Output.csv\")\n",
    "\n",
    "# Visualize to confirm airport data appears\n",
    "cities_pd.head(10)"
   ]
  },
  {
   "cell_type": "code",
   "execution_count": 7,
   "metadata": {},
   "outputs": [],
   "source": [
    "cities_pd = pd.read_csv(\"Cities_Output.csv\")"
   ]
  },
  {
   "cell_type": "markdown",
   "metadata": {},
   "source": [
    "### Plotting the Data\n",
    "* Use proper labeling of the plots using plot titles (including date of analysis) and axes labels.\n",
    "* Save the plotted figures as .pngs."
   ]
  },
  {
   "cell_type": "markdown",
   "metadata": {},
   "source": [
    "#### Latitude vs. Temperature Plot"
   ]
  },
  {
   "cell_type": "code",
   "execution_count": 51,
   "metadata": {
    "scrolled": true
   },
   "outputs": [
    {
     "data": {
      "image/png": "[encoded data removed]",
      "text/plain": [
       "<Figure size 432x288 with 1 Axes>"
      ]
     },
     "metadata": {
      "needs_background": "light"
     },
     "output_type": "display_data"
    }
   ],
   "source": [
    "plt.scatter(cities_pd[\"Lat\"],cities_pd[\"Max Temp\"],c=\"blue\",edgecolor='black')\n",
    "plt.title('Latitude vs. Temperature Plot')\n",
    "plt.xlabel('Latitude')\n",
    "plt.ylabel('Temperature')\n",
    "plt.show()\n"
   ]
  },
  {
   "cell_type": "markdown",
   "metadata": {},
   "source": [
    "#### Latitude vs. Humidity Plot"
   ]
  },
  {
   "cell_type": "code",
   "execution_count": 53,
   "metadata": {},
   "outputs": [
    {
     "data": {
      "image/png": "[encoded data removed]",
      "text/plain": [
       "<Figure size 432x288 with 1 Axes>"
      ]
     },
     "metadata": {
      "needs_background": "light"
     },
     "output_type": "display_data"
    }
   ],
   "source": [
    "plt.scatter(cities_pd[\"Lat\"],cities_pd[\"Humidity\"],c=\"blue\",edgecolor='black')\n",
    "plt.title('Latitude vs. Humidity Plot')\n",
    "plt.xlabel('Latitude')\n",
    "plt.ylabel('Humidity')\n",
    "plt.show()"
   ]
  },
  {
   "cell_type": "markdown",
   "metadata": {},
   "source": [
    "#### Latitude vs. Cloudiness Plot"
   ]
  },
  {
   "cell_type": "code",
   "execution_count": 54,
   "metadata": {},
   "outputs": [
    {
     "data": {
      "image/png": "[encoded data removed]",
      "text/plain": [
       "<Figure size 432x288 with 1 Axes>"
      ]
     },
     "metadata": {
      "needs_background": "light"
     },
     "output_type": "display_data"
    }
   ],
   "source": [
    "plt.scatter(cities_pd[\"Lat\"],cities_pd[\"Cloudiness\"],c=\"blue\",edgecolor='black')\n",
    "plt.title('Latitude vs. Cloudiness Plot')\n",
    "plt.xlabel('Latitude')\n",
    "plt.ylabel('Cloudiness')\n",
    "plt.show()"
   ]
  },
  {
   "cell_type": "markdown",
   "metadata": {},
   "source": [
    "#### Latitude vs. Wind Speed Plot"
   ]
  },
  {
   "cell_type": "code",
   "execution_count": 56,
   "metadata": {},
   "outputs": [
    {
     "data": {
      "image/png": "[encoded data removed]",
      "text/plain": [
       "<Figure size 432x288 with 1 Axes>"
      ]
     },
     "metadata": {
      "needs_background": "light"
     },
     "output_type": "display_data"
    }
   ],
   "source": [
    "plt.scatter(cities_pd[\"Lat\"],cities_pd[\"Wind Speed\"],c=\"blue\",edgecolor='black')\n",
    "plt.title('Latitude vs. Wind Speed Plot')\n",
    "plt.xlabel('Latitude')\n",
    "plt.ylabel('Wind Speed')\n",
    "plt.show()"
   ]
  },
  {
   "cell_type": "markdown",
   "metadata": {},
   "source": [
    "## Linear Regression"
   ]
  },
  {
   "cell_type": "code",
   "execution_count": null,
   "metadata": {},
   "outputs": [],
   "source": [
    "# OPTIONAL: Create a function to create Linear Regression plots\n"
   ]
  },
  {
   "cell_type": "code",
   "execution_count": 15,
   "metadata": {},
   "outputs": [
    {
     "data": {
      "text/html": [
       "<div>\n",
       "<style scoped>\n",
       "    .dataframe tbody tr th:only-of-type {\n",
       "        vertical-align: middle;\n",
       "    }\n",
       "\n",
       "    .dataframe tbody tr th {\n",
       "        vertical-align: top;\n",
       "    }\n",
       "\n",
       "    .dataframe thead th {\n",
       "        text-align: right;\n",
       "    }\n",
       "</style>\n",
       "<table border=\"1\" class=\"dataframe\">\n",
       "  <thead>\n",
       "    <tr style=\"text-align: right;\">\n",
       "      <th></th>\n",
       "      <th>Unnamed: 0</th>\n",
       "      <th>City Id</th>\n",
       "      <th>City</th>\n",
       "      <th>Max Temp</th>\n",
       "      <th>Humidity</th>\n",
       "      <th>Wind Speed</th>\n",
       "      <th>Cloudiness</th>\n",
       "      <th>Country</th>\n",
       "      <th>Date</th>\n",
       "      <th>Lat</th>\n",
       "      <th>Lng</th>\n",
       "    </tr>\n",
       "  </thead>\n",
       "  <tbody>\n",
       "    <tr>\n",
       "      <th>2</th>\n",
       "      <td>2</td>\n",
       "      <td>3</td>\n",
       "      <td>aklavik</td>\n",
       "      <td>-23.00</td>\n",
       "      <td>63</td>\n",
       "      <td>1.50</td>\n",
       "      <td>75</td>\n",
       "      <td>CA</td>\n",
       "      <td>1583365802</td>\n",
       "      <td>68.22</td>\n",
       "      <td>-135.01</td>\n",
       "    </tr>\n",
       "    <tr>\n",
       "      <th>4</th>\n",
       "      <td>4</td>\n",
       "      <td>5</td>\n",
       "      <td>nuzvid</td>\n",
       "      <td>20.47</td>\n",
       "      <td>88</td>\n",
       "      <td>2.59</td>\n",
       "      <td>3</td>\n",
       "      <td>IN</td>\n",
       "      <td>1583365966</td>\n",
       "      <td>16.78</td>\n",
       "      <td>80.85</td>\n",
       "    </tr>\n",
       "    <tr>\n",
       "      <th>7</th>\n",
       "      <td>7</td>\n",
       "      <td>8</td>\n",
       "      <td>qaqortoq</td>\n",
       "      <td>-15.00</td>\n",
       "      <td>50</td>\n",
       "      <td>1.50</td>\n",
       "      <td>0</td>\n",
       "      <td>GL</td>\n",
       "      <td>1583365762</td>\n",
       "      <td>60.72</td>\n",
       "      <td>-46.03</td>\n",
       "    </tr>\n",
       "  </tbody>\n",
       "</table>\n",
       "</div>"
      ],
      "text/plain": [
       "   Unnamed: 0  City Id      City  Max Temp  Humidity  Wind Speed  Cloudiness  \\\n",
       "2           2        3   aklavik    -23.00        63        1.50          75   \n",
       "4           4        5    nuzvid     20.47        88        2.59           3   \n",
       "7           7        8  qaqortoq    -15.00        50        1.50           0   \n",
       "\n",
       "  Country        Date    Lat     Lng  \n",
       "2      CA  1583365802  68.22 -135.01  \n",
       "4      IN  1583365966  16.78   80.85  \n",
       "7      GL  1583365762  60.72  -46.03  "
      ]
     },
     "execution_count": 15,
     "metadata": {},
     "output_type": "execute_result"
    }
   ],
   "source": [
    "# Create Northern and Southern Hemisphere DataFrames\n",
    "n_df = cities_pd.loc[cities_pd[\"Lat\"] >= 0]\n",
    "n_df.head(3)"
   ]
  },
  {
   "cell_type": "code",
   "execution_count": 16,
   "metadata": {},
   "outputs": [
    {
     "data": {
      "text/html": [
       "<div>\n",
       "<style scoped>\n",
       "    .dataframe tbody tr th:only-of-type {\n",
       "        vertical-align: middle;\n",
       "    }\n",
       "\n",
       "    .dataframe tbody tr th {\n",
       "        vertical-align: top;\n",
       "    }\n",
       "\n",
       "    .dataframe thead th {\n",
       "        text-align: right;\n",
       "    }\n",
       "</style>\n",
       "<table border=\"1\" class=\"dataframe\">\n",
       "  <thead>\n",
       "    <tr style=\"text-align: right;\">\n",
       "      <th></th>\n",
       "      <th>Unnamed: 0</th>\n",
       "      <th>City Id</th>\n",
       "      <th>City</th>\n",
       "      <th>Max Temp</th>\n",
       "      <th>Humidity</th>\n",
       "      <th>Wind Speed</th>\n",
       "      <th>Cloudiness</th>\n",
       "      <th>Country</th>\n",
       "      <th>Date</th>\n",
       "      <th>Lat</th>\n",
       "      <th>Lng</th>\n",
       "    </tr>\n",
       "  </thead>\n",
       "  <tbody>\n",
       "    <tr>\n",
       "      <th>0</th>\n",
       "      <td>0</td>\n",
       "      <td>1</td>\n",
       "      <td>batemans bay</td>\n",
       "      <td>21.11</td>\n",
       "      <td>100</td>\n",
       "      <td>1.30</td>\n",
       "      <td>100</td>\n",
       "      <td>AU</td>\n",
       "      <td>1583365965</td>\n",
       "      <td>-35.72</td>\n",
       "      <td>150.18</td>\n",
       "    </tr>\n",
       "    <tr>\n",
       "      <th>1</th>\n",
       "      <td>1</td>\n",
       "      <td>2</td>\n",
       "      <td>saint-philippe</td>\n",
       "      <td>26.00</td>\n",
       "      <td>94</td>\n",
       "      <td>2.60</td>\n",
       "      <td>90</td>\n",
       "      <td>RE</td>\n",
       "      <td>1583365965</td>\n",
       "      <td>-21.36</td>\n",
       "      <td>55.77</td>\n",
       "    </tr>\n",
       "    <tr>\n",
       "      <th>3</th>\n",
       "      <td>3</td>\n",
       "      <td>4</td>\n",
       "      <td>faanui</td>\n",
       "      <td>28.03</td>\n",
       "      <td>73</td>\n",
       "      <td>2.81</td>\n",
       "      <td>86</td>\n",
       "      <td>PF</td>\n",
       "      <td>1583365965</td>\n",
       "      <td>-16.48</td>\n",
       "      <td>-151.75</td>\n",
       "    </tr>\n",
       "  </tbody>\n",
       "</table>\n",
       "</div>"
      ],
      "text/plain": [
       "   Unnamed: 0  City Id            City  Max Temp  Humidity  Wind Speed  \\\n",
       "0           0        1    batemans bay     21.11       100        1.30   \n",
       "1           1        2  saint-philippe     26.00        94        2.60   \n",
       "3           3        4          faanui     28.03        73        2.81   \n",
       "\n",
       "   Cloudiness Country        Date    Lat     Lng  \n",
       "0         100      AU  1583365965 -35.72  150.18  \n",
       "1          90      RE  1583365965 -21.36   55.77  \n",
       "3          86      PF  1583365965 -16.48 -151.75  "
      ]
     },
     "execution_count": 16,
     "metadata": {},
     "output_type": "execute_result"
    }
   ],
   "source": [
    "# Create Northern and Southern Hemisphere DataFrames\n",
    "s_df = cities_pd.loc[cities_pd[\"Lat\"] < 0]\n",
    "s_df.head(3)"
   ]
  },
  {
   "cell_type": "markdown",
   "metadata": {},
   "source": [
    "####  Northern Hemisphere - Max Temp vs. Latitude Linear Regression"
   ]
  },
  {
   "cell_type": "code",
   "execution_count": 38,
   "metadata": {},
   "outputs": [
    {
     "data": {
      "image/png": "[encoded data removed]",
      "text/plain": [
       "<Figure size 432x288 with 1 Axes>"
      ]
     },
     "metadata": {
      "needs_background": "light"
     },
     "output_type": "display_data"
    }
   ],
   "source": [
    "x_values = n_df[\"Lat\"]\n",
    "y_values = n_df[\"Max Temp\"]\n",
    "(slope, intercept, rvalue, pvalue, stderr) = linregress(x_values, y_values)\n",
    "regress_values = x_values * slope + intercept\n",
    "line_eq = \"y = \" + str(round(slope,2)) + \"x + \" + str(round(intercept,2))\n",
    "plt.scatter(x_values,y_values)\n",
    "plt.plot(x_values,regress_values,\"r-\")\n",
    "plt.annotate(line_eq,(6,10),fontsize=15,color=\"red\")\n",
    "plt.title('Northern Hemisphere - Max Temp vs. Latitude Linear Regression')\n",
    "plt.xlabel('Latitude')\n",
    "plt.ylabel('Max Temp')\n",
    "plt.show()\n"
   ]
  },
  {
   "cell_type": "markdown",
   "metadata": {},
   "source": [
    "####  Southern Hemisphere - Max Temp vs. Latitude Linear Regression"
   ]
  },
  {
   "cell_type": "code",
   "execution_count": 40,
   "metadata": {},
   "outputs": [
    {
     "data": {
      "image/png": "[encoded data removed]",
      "text/plain": [
       "<Figure size 432x288 with 1 Axes>"
      ]
     },
     "metadata": {
      "needs_background": "light"
     },
     "output_type": "display_data"
    }
   ],
   "source": [
    "x_values = s_df[\"Lat\"]\n",
    "y_values = s_df[\"Max Temp\"]\n",
    "(slope, intercept, rvalue, pvalue, stderr) = linregress(x_values, y_values)\n",
    "regress_values = x_values * slope + intercept\n",
    "line_eq = \"y = \" + str(round(slope,2)) + \"x + \" + str(round(intercept,2))\n",
    "plt.scatter(x_values,y_values)\n",
    "plt.plot(x_values,regress_values,\"r-\")\n",
    "plt.annotate(line_eq,(6,10),fontsize=15,color=\"red\")\n",
    "plt.title('Southern Hemisphere - Max Temp vs. Latitude Linear Regression')\n",
    "plt.xlabel('Latitude')\n",
    "plt.ylabel('Max Temp')\n",
    "plt.show()"
   ]
  },
  {
   "cell_type": "markdown",
   "metadata": {},
   "source": [
    "####  Northern Hemisphere - Humidity (%) vs. Latitude Linear Regression"
   ]
  },
  {
   "cell_type": "code",
   "execution_count": 42,
   "metadata": {},
   "outputs": [
    {
     "data": {
      "image/png": "[encoded data removed]",
      "text/plain": [
       "<Figure size 432x288 with 1 Axes>"
      ]
     },
     "metadata": {
      "needs_background": "light"
     },
     "output_type": "display_data"
    }
   ],
   "source": [
    "x_values = n_df[\"Lat\"]\n",
    "y_values = n_df[\"Humidity\"]\n",
    "(slope, intercept, rvalue, pvalue, stderr) = linregress(x_values, y_values)\n",
    "regress_values = x_values * slope + intercept\n",
    "line_eq = \"y = \" + str(round(slope,2)) + \"x + \" + str(round(intercept,2))\n",
    "plt.scatter(x_values,y_values)\n",
    "plt.plot(x_values,regress_values,\"r-\")\n",
    "plt.annotate(line_eq,(6,10),fontsize=15,color=\"red\")\n",
    "plt.title('Northern Hemisphere - Humidity (%) vs. Latitude Linear Regression')\n",
    "plt.xlabel('Latitude')\n",
    "plt.ylabel('Humidity')\n",
    "plt.show()"
   ]
  },
  {
   "cell_type": "markdown",
   "metadata": {},
   "source": [
    "####  Southern Hemisphere - Humidity (%) vs. Latitude Linear Regression"
   ]
  },
  {
   "cell_type": "code",
   "execution_count": 44,
   "metadata": {},
   "outputs": [
    {
     "data": {
      "image/png": "[encoded data removed]",
      "text/plain": [
       "<Figure size 432x288 with 1 Axes>"
      ]
     },
     "metadata": {
      "needs_background": "light"
     },
     "output_type": "display_data"
    }
   ],
   "source": [
    "x_values = n_df[\"Lat\"]\n",
    "y_values = n_df[\"Humidity\"]\n",
    "(slope, intercept, rvalue, pvalue, stderr) = linregress(x_values, y_values)\n",
    "regress_values = x_values * slope + intercept\n",
    "line_eq = \"y = \" + str(round(slope,2)) + \"x + \" + str(round(intercept,2))\n",
    "plt.scatter(x_values,y_values)\n",
    "plt.plot(x_values,regress_values,\"r-\")\n",
    "plt.annotate(line_eq,(6,10),fontsize=15,color=\"red\")\n",
    "plt.title('Southern Hemisphere - Humidity (%) vs. Latitude Linear Regression')\n",
    "plt.xlabel('Lat')\n",
    "plt.ylabel('Humidity')\n",
    "plt.show()"
   ]
  },
  {
   "cell_type": "markdown",
   "metadata": {},
   "source": [
    "####  Northern Hemisphere - Cloudiness (%) vs. Latitude Linear Regression"
   ]
  },
  {
   "cell_type": "code",
   "execution_count": 46,
   "metadata": {},
   "outputs": [
    {
     "data": {
      "image/png": "[encoded data removed]",
      "text/plain": [
       "<Figure size 432x288 with 1 Axes>"
      ]
     },
     "metadata": {
      "needs_background": "light"
     },
     "output_type": "display_data"
    }
   ],
   "source": [
    "x_values = n_df[\"Lat\"]\n",
    "y_values = n_df[\"Cloudiness\"]\n",
    "(slope, intercept, rvalue, pvalue, stderr) = linregress(x_values, y_values)\n",
    "regress_values = x_values * slope + intercept\n",
    "line_eq = \"y = \" + str(round(slope,2)) + \"x + \" + str(round(intercept,2))\n",
    "plt.scatter(x_values,y_values)\n",
    "plt.plot(x_values,regress_values,\"r-\")\n",
    "plt.annotate(line_eq,(6,10),fontsize=15,color=\"red\")\n",
    "plt.title('Northern Hemisphere - Cloudiness (%) vs. Latitude Linear Regression')\n",
    "plt.xlabel('Lattitude')\n",
    "plt.ylabel('Cloudiness (%)')\n",
    "plt.show()"
   ]
  },
  {
   "cell_type": "markdown",
   "metadata": {},
   "source": [
    "####  Southern Hemisphere - Cloudiness (%) vs. Latitude Linear Regression"
   ]
  },
  {
   "cell_type": "code",
   "execution_count": 47,
   "metadata": {},
   "outputs": [
    {
     "data": {
      "image/png": "[encoded data removed]",
      "text/plain": [
       "<Figure size 432x288 with 1 Axes>"
      ]
     },
     "metadata": {
      "needs_background": "light"
     },
     "output_type": "display_data"
    }
   ],
   "source": [
    "x_values = n_df[\"Lat\"]\n",
    "y_values = n_df[\"Cloudiness\"]\n",
    "(slope, intercept, rvalue, pvalue, stderr) = linregress(x_values, y_values)\n",
    "regress_values = x_values * slope + intercept\n",
    "line_eq = \"y = \" + str(round(slope,2)) + \"x + \" + str(round(intercept,2))\n",
    "plt.scatter(x_values,y_values)\n",
    "plt.plot(x_values,regress_values,\"r-\")\n",
    "plt.annotate(line_eq,(6,10),fontsize=15,color=\"red\")\n",
    "plt.title('Southern Hemisphere - Cloudiness (%) vs. Latitude Linear Regression')\n",
    "plt.xlabel('Latitude')\n",
    "plt.ylabel('Cloudiness')\n",
    "plt.show()"
   ]
  },
  {
   "cell_type": "markdown",
   "metadata": {},
   "source": [
    "####  Northern Hemisphere - Wind Speed (mph) vs. Latitude Linear Regression"
   ]
  },
  {
   "cell_type": "code",
   "execution_count": 49,
   "metadata": {},
   "outputs": [
    {
     "data": {
      "image/png": "[encoded data removed]",
      "text/plain": [
       "<Figure size 432x288 with 1 Axes>"
      ]
     },
     "metadata": {
      "needs_background": "light"
     },
     "output_type": "display_data"
    }
   ],
   "source": [
    "x_values = n_df[\"Lat\"]\n",
    "y_values = n_df[\"Wind Speed\"]\n",
    "(slope, intercept, rvalue, pvalue, stderr) = linregress(x_values, y_values)\n",
    "regress_values = x_values * slope + intercept\n",
    "line_eq = \"y = \" + str(round(slope,2)) + \"x + \" + str(round(intercept,2))\n",
    "plt.scatter(x_values,y_values)\n",
    "plt.plot(x_values,regress_values,\"r-\")\n",
    "plt.annotate(line_eq,(6,10),fontsize=15,color=\"red\")\n",
    "plt.title('Northern Hemisphere - Max Temp vs. Latitude Linear Regression')\n",
    "plt.xlabel('Latitude')\n",
    "plt.ylabel('Wind Speed (mph)')\n",
    "plt.show()"
   ]
  },
  {
   "cell_type": "markdown",
   "metadata": {},
   "source": [
    "####  Southern Hemisphere - Wind Speed (mph) vs. Latitude Linear Regression"
   ]
  },
  {
   "cell_type": "code",
   "execution_count": 50,
   "metadata": {},
   "outputs": [
    {
     "data": {
      "image/png": "[encoded data removed]",
      "text/plain": [
       "<Figure size 432x288 with 1 Axes>"
      ]
     },
     "metadata": {
      "needs_background": "light"
     },
     "output_type": "display_data"
    }
   ],
   "source": [
    "x_values = n_df[\"Lat\"]\n",
    "y_values = n_df[\"Wind Speed\"]\n",
    "(slope, intercept, rvalue, pvalue, stderr) = linregress(x_values, y_values)\n",
    "regress_values = x_values * slope + intercept\n",
    "line_eq = \"y = \" + str(round(slope,2)) + \"x + \" + str(round(intercept,2))\n",
    "plt.scatter(x_values,y_values)\n",
    "plt.plot(x_values,regress_values,\"r-\")\n",
    "plt.annotate(line_eq,(6,10),fontsize=15,color=\"red\")\n",
    "plt.title('Southern Hemisphere - Wind Speed (mph) vs. Latitude Linear Regression')\n",
    "plt.xlabel('Latitude')\n",
    "plt.ylabel('Wind Speed')\n",
    "plt.show()"
   ]
  },
  {
   "cell_type": "code",
   "execution_count": null,
   "metadata": {},
   "outputs": [],
   "source": []
  }
 ],
 "metadata": {
  "anaconda-cloud": {},
  "kernel_info": {
   "name": "python3"
  },
  "kernelspec": {
   "display_name": "Python 3",
   "language": "python",
   "name": "python3"
  },
  "language_info": {
   "codemirror_mode": {
    "name": "ipython",
    "version": 3
   },
   "file_extension": ".py",
   "mimetype": "text/x-python",
   "name": "python",
   "nbconvert_exporter": "python",
   "pygments_lexer": "ipython3",
   "version": "3.6.10"
  },
  "latex_envs": {
   "LaTeX_envs_menu_present": true,
   "autoclose": false,
   "autocomplete": true,
   "bibliofile": "biblio.bib",
   "cite_by": "apalike",
   "current_citInitial": 1,
   "eqLabelWithNumbers": true,
   "eqNumInitial": 1,
   "hotkeys": {
    "equation": "Ctrl-E",
    "itemize": "Ctrl-I"
   },
   "labels_anchors": false,
   "latex_user_defs": false,
   "report_style_numbering": false,
   "user_envs_cfg": false
  },
  "nteract": {
   "version": "0.12.3"
  }
 },
 "nbformat": 4,
 "nbformat_minor": 2
}
